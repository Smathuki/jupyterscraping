{
 "cells": [
  {
   "cell_type": "code",
   "execution_count": 1,
   "id": "95942c3f",
   "metadata": {},
   "outputs": [
    {
     "name": "stdout",
     "output_type": "stream",
     "text": [
      "Requirement already satisfied: requests in /Users/apple/anaconda3/lib/python3.10/site-packages (2.28.1)\n",
      "Requirement already satisfied: charset-normalizer<3,>=2 in /Users/apple/anaconda3/lib/python3.10/site-packages (from requests) (2.0.4)\n",
      "Requirement already satisfied: certifi>=2017.4.17 in /Users/apple/anaconda3/lib/python3.10/site-packages (from requests) (2023.5.7)\n",
      "Requirement already satisfied: urllib3<1.27,>=1.21.1 in /Users/apple/anaconda3/lib/python3.10/site-packages (from requests) (1.26.14)\n",
      "Requirement already satisfied: idna<4,>=2.5 in /Users/apple/anaconda3/lib/python3.10/site-packages (from requests) (3.4)\n",
      "Requirement already satisfied: BeautifulSoup4 in /Users/apple/anaconda3/lib/python3.10/site-packages (4.11.1)\n",
      "Requirement already satisfied: soupsieve>1.2 in /Users/apple/anaconda3/lib/python3.10/site-packages (from BeautifulSoup4) (2.3.2.post1)\n"
     ]
    }
   ],
   "source": [
    "!pip install requests\n",
    "!pip install BeautifulSoup4"
   ]
  },
  {
   "cell_type": "code",
   "execution_count": 2,
   "id": "67cda8fd",
   "metadata": {},
   "outputs": [
    {
     "ename": "ImportError",
     "evalue": "cannot import name 'BeautifulSoup4' from 'bs4' (/Users/apple/anaconda3/lib/python3.10/site-packages/bs4/__init__.py)",
     "output_type": "error",
     "traceback": [
      "\u001b[0;31m---------------------------------------------------------------------------\u001b[0m",
      "\u001b[0;31mImportError\u001b[0m                               Traceback (most recent call last)",
      "Cell \u001b[0;32mIn[2], line 2\u001b[0m\n\u001b[1;32m      1\u001b[0m \u001b[38;5;28;01mimport\u001b[39;00m \u001b[38;5;21;01mrequests\u001b[39;00m\n\u001b[0;32m----> 2\u001b[0m \u001b[38;5;28;01mfrom\u001b[39;00m \u001b[38;5;21;01mbs4\u001b[39;00m \u001b[38;5;28;01mimport\u001b[39;00m BeautifulSoup4\n",
      "\u001b[0;31mImportError\u001b[0m: cannot import name 'BeautifulSoup4' from 'bs4' (/Users/apple/anaconda3/lib/python3.10/site-packages/bs4/__init__.py)"
     ]
    }
   ],
   "source": [
    "import requests\n",
    "from bs4 import BeautifulSoup4"
   ]
  },
  {
   "cell_type": "code",
   "execution_count": 3,
   "id": "cbffb453",
   "metadata": {},
   "outputs": [],
   "source": [
    "import requests\n",
    "from bs4 import BeautifulSoup"
   ]
  },
  {
   "cell_type": "code",
   "execution_count": 4,
   "id": "7ead629c",
   "metadata": {},
   "outputs": [
    {
     "ename": "SyntaxError",
     "evalue": "invalid syntax (2628577123.py, line 2)",
     "output_type": "error",
     "traceback": [
      "\u001b[0;36m  Cell \u001b[0;32mIn[4], line 2\u001b[0;36m\u001b[0m\n\u001b[0;31m    import pandas as pd import time\u001b[0m\n\u001b[0m                        ^\u001b[0m\n\u001b[0;31mSyntaxError\u001b[0m\u001b[0;31m:\u001b[0m invalid syntax\n"
     ]
    }
   ],
   "source": [
    "import csv\n",
    "import pandas as pd import time"
   ]
  },
  {
   "cell_type": "code",
   "execution_count": 5,
   "id": "0c52b04d",
   "metadata": {},
   "outputs": [],
   "source": [
    "import csv\n",
    "import pandas as pd \n",
    "import time"
   ]
  },
  {
   "cell_type": "code",
   "execution_count": 6,
   "id": "635cef0d",
   "metadata": {},
   "outputs": [
    {
     "name": "stdout",
     "output_type": "stream",
     "text": [
      "request successfull\n"
     ]
    }
   ],
   "source": [
    "url = \"https://books.toscrape.com/\"\n",
    "response = requests.get(url)\n",
    "if response.status_code == 200:\n",
    "    print (\"request successfull\")\n",
    "else:\n",
    "    print (\"request failed\")"
   ]
  },
  {
   "cell_type": "code",
   "execution_count": 7,
   "id": "caa8d3da",
   "metadata": {},
   "outputs": [],
   "source": [
    "soup = BeautifulSoup(response.text, \"html.parser\")"
   ]
  },
  {
   "cell_type": "code",
   "execution_count": null,
   "id": "8fc87fc8",
   "metadata": {},
   "outputs": [],
   "source": [
    "print (soup)"
   ]
  },
  {
   "cell_type": "code",
   "execution_count": 10,
   "id": "993513c3",
   "metadata": {},
   "outputs": [
    {
     "name": "stdout",
     "output_type": "stream",
     "text": [
      "Title: A Light in the Attic\n",
      "Category: Poetry\n",
      "Rating: Three\n",
      "Price: £51.77\n",
      "Availability: In stock (22 available)\n",
      "********\n",
      "Title: Tipping the Velvet\n",
      "Category: Historical Fiction\n",
      "Rating: One\n",
      "Price: £53.74\n",
      "Availability: In stock (20 available)\n",
      "********\n",
      "Title: Soumission\n",
      "Category: Fiction\n",
      "Rating: One\n",
      "Price: £50.10\n",
      "Availability: In stock (20 available)\n",
      "********\n",
      "Title: Sharp Objects\n",
      "Category: Mystery\n",
      "Rating: Four\n",
      "Price: £47.82\n",
      "Availability: In stock (20 available)\n",
      "********\n",
      "Title: Sapiens: A Brief History of Humankind\n",
      "Category: History\n",
      "Rating: Five\n",
      "Price: £54.23\n",
      "Availability: In stock (20 available)\n",
      "********\n",
      "Title: The Requiem Red\n",
      "Category: Young Adult\n",
      "Rating: One\n",
      "Price: £22.65\n",
      "Availability: In stock (19 available)\n",
      "********\n",
      "Title: The Dirty Little Secrets of Getting Your Dream Job\n",
      "Category: Business\n",
      "Rating: Four\n",
      "Price: £33.34\n",
      "Availability: In stock (19 available)\n",
      "********\n",
      "Title: The Coming Woman: A Novel Based on the Life of the Infamous Feminist, Victoria Woodhull\n",
      "Category: Default\n",
      "Rating: Three\n",
      "Price: £17.93\n",
      "Availability: In stock (19 available)\n",
      "********\n",
      "Title: The Boys in the Boat: Nine Americans and Their Epic Quest for Gold at the 1936 Berlin Olympics\n",
      "Category: Default\n",
      "Rating: Four\n",
      "Price: £22.60\n",
      "Availability: In stock (19 available)\n",
      "********\n",
      "Title: The Black Maria\n",
      "Category: Poetry\n",
      "Rating: One\n",
      "Price: £52.15\n",
      "Availability: In stock (19 available)\n",
      "********\n",
      "Title: Starving Hearts (Triangular Trade Trilogy, #1)\n",
      "Category: Default\n",
      "Rating: Two\n",
      "Price: £13.99\n",
      "Availability: In stock (19 available)\n",
      "********\n",
      "Title: Shakespeare's Sonnets\n",
      "Category: Poetry\n",
      "Rating: Four\n",
      "Price: £20.66\n",
      "Availability: In stock (19 available)\n",
      "********\n",
      "Title: Set Me Free\n",
      "Category: Young Adult\n",
      "Rating: Five\n",
      "Price: £17.46\n",
      "Availability: In stock (19 available)\n",
      "********\n",
      "Title: Scott Pilgrim's Precious Little Life (Scott Pilgrim #1)\n",
      "Category: Sequential Art\n",
      "Rating: Five\n",
      "Price: £52.29\n",
      "Availability: In stock (19 available)\n",
      "********\n",
      "Title: Rip it Up and Start Again\n",
      "Category: Music\n",
      "Rating: Five\n",
      "Price: £35.02\n",
      "Availability: In stock (19 available)\n",
      "********\n",
      "Title: Our Band Could Be Your Life: Scenes from the American Indie Underground, 1981-1991\n",
      "Category: Music\n",
      "Rating: Three\n",
      "Price: £57.25\n",
      "Availability: In stock (19 available)\n",
      "********\n",
      "Title: Olio\n",
      "Category: Poetry\n",
      "Rating: One\n",
      "Price: £23.88\n",
      "Availability: In stock (19 available)\n",
      "********\n",
      "Title: Mesaerion: The Best Science Fiction Stories 1800-1849\n",
      "Category: Science Fiction\n",
      "Rating: One\n",
      "Price: £37.59\n",
      "Availability: In stock (19 available)\n",
      "********\n",
      "Title: Libertarianism for Beginners\n",
      "Category: Politics\n",
      "Rating: Two\n",
      "Price: £51.33\n",
      "Availability: In stock (19 available)\n",
      "********\n",
      "Title: It's Only the Himalayas\n",
      "Category: Travel\n",
      "Rating: Two\n",
      "Price: £45.17\n",
      "Availability: In stock (19 available)\n",
      "********\n"
     ]
    }
   ],
   "source": [
    "books = soup.find_all('h3')\n",
    "\n",
    "start_time =time.time()\n",
    "books_extracted = 0\n",
    "\n",
    "for book in books:\n",
    "    book_url = book.find('a')['href']\n",
    "    book_response = requests.get(url + book_url)\n",
    "    book_soup =BeautifulSoup(book_response.content, \"html.parser\")\n",
    "    \n",
    "    title = book_soup.find('h1').text\n",
    "    category = book_soup.find('ul', class_=\"breadcrumb\").find_all('a')[2].text.strip()\n",
    "    \n",
    "    rating = book_soup.find('p', class_='star-rating')['class'][1]\n",
    "    price = book_soup.find('p', class_='price_color').text.strip()\n",
    "    availability = book_soup.find('p', class_='availability').text.strip()\n",
    "    \n",
    "    books_extracted += 1\n",
    "    \n",
    "    end_time = time.time()\n",
    "    total_time = (end_time-start_time)/60.0\n",
    "    \n",
    "    print(f'Title: {title}')\n",
    "    print(f'Category: {category}')\n",
    "    print(f'Rating: {rating}')\n",
    "    print(f'Price: {price}')\n",
    "    print(f'Availability: {availability}')\n",
    "    print('********')\n",
    "\n"
   ]
  },
  {
   "cell_type": "code",
   "execution_count": null,
   "id": "6cb9d133",
   "metadata": {},
   "outputs": [],
   "source": [
    "books_data = []\n",
    "\n",
    "for page_num in range(1, 51):\n",
    "    url = f'https://books.toscrape.com/catalogue/page-{page_num}.html'\n",
    "    response = requests.get(url)\n",
    "    soup = BeautifulSoup(response.content, 'html.parser')\n",
    "    \n",
    "    books = soup.find_all('h3')\n",
    "\n",
    "    start_time =time.time()\n",
    "    books_extracted = 0\n",
    "\n",
    "    for book in books:\n",
    "        book_url = book.find('a')['href']\n",
    "        book_response = requests.get(url + book_url)\n",
    "        book_soup =BeautifulSoup(book_response.content, \"html.parser\")\n",
    "    \n",
    "        title = book_soup.find('h1').text\n",
    "        category = book_soup.find('ul', class_=\"breadcrumb\").find_all('a')[2].text.strip()\n",
    "        rating = book_soup.find('p', class_='star-rating')['class'][1]\n",
    "        price = book_soup.find('p', class_='price_color').text.strip()\n",
    "        availability = book_soup.find('p', class_='availability').text.strip()\n",
    "    \n",
    "        books_extracted += 1\n",
    "    \n",
    "        end_time = time.time()\n",
    "        total_time = (end_time-start_time)/60.0\n",
    "    \n",
    "        books_data.append([title, category, rating, price, availability])\n",
    "        print(books_data)\n",
    "        print('*******')\n",
    "        print(f'Total time taken: {total_time:2f}) minutes')\n",
    "        print('*******')\n",
    "        print(f'{page_num*len(books)} books extracted so far ...')\n",
    "        \n",
    "    "
   ]
  },
  {
   "cell_type": "code",
   "execution_count": null,
   "id": "86596da0",
   "metadata": {},
   "outputs": [],
   "source": [
    "df = pd.DataFrame(books_data, columns=[\"Title\", \"Category\", \"Rating\", \"Price\", \"Availability\"])\n",
    "print(df.head(10))"
   ]
  },
  {
   "cell_type": "code",
   "execution_count": null,
   "id": "dde65b38",
   "metadata": {},
   "outputs": [],
   "source": [
    "df.to_csv(\"books_scraped.csv\", index=False)\n",
    "print(\"Data saved to books_scraped.csv\" )"
   ]
  }
 ],
 "metadata": {
  "kernelspec": {
   "display_name": "Python 3 (ipykernel)",
   "language": "python",
   "name": "python3"
  },
  "language_info": {
   "codemirror_mode": {
    "name": "ipython",
    "version": 3
   },
   "file_extension": ".py",
   "mimetype": "text/x-python",
   "name": "python",
   "nbconvert_exporter": "python",
   "pygments_lexer": "ipython3",
   "version": "3.10.9"
  }
 },
 "nbformat": 4,
 "nbformat_minor": 5
}
